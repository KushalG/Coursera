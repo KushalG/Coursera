{
 "cells": [
  {
   "cell_type": "code",
   "execution_count": 1,
   "metadata": {
    "collapsed": true
   },
   "outputs": [],
   "source": [
    "import numpy as np\n",
    "from matplotlib import pyplot\n",
    "import pylab\n",
    "from mpl_toolkits.mplot3d import Axes3D"
   ]
  },
  {
   "cell_type": "code",
   "execution_count": 2,
   "metadata": {
    "collapsed": false
   },
   "outputs": [],
   "source": [
    "truth_table = np.zeros(8, dtype = {'names': ['x1','x2','x3','label','value'],\n",
    "                                     'formats' : ['i1','i1','i1','S1','bool']})"
   ]
  },
  {
   "cell_type": "code",
   "execution_count": 3,
   "metadata": {
    "collapsed": false
   },
   "outputs": [],
   "source": [
    "truth_table[0] = (0,0,0,'',False)\n",
    "truth_table[1] = (0,0,1,'',False)\n",
    "truth_table[2] = (0,1,0,'',False)\n",
    "truth_table[3] = (0,1,1,'',False)\n",
    "truth_table[4] = (1,0,0,'',False)\n",
    "truth_table[5] = (1,0,1,'',False)\n",
    "truth_table[6] = (1,1,0,'',False)\n",
    "truth_table[7] = (1,1,1,'',False)"
   ]
  },
  {
   "cell_type": "code",
   "execution_count": 4,
   "metadata": {
    "collapsed": false
   },
   "outputs": [
    {
     "name": "stdout",
     "output_type": "stream",
     "text": [
      "-\n",
      "-\n",
      "+\n",
      "-\n",
      "+\n",
      "+\n",
      "+\n",
      "+\n"
     ]
    }
   ],
   "source": [
    "for i in range(0,8):\n",
    "    x1 = (True if truth_table[i]['x1'] != 0 else False)\n",
    "    x2 = (True if truth_table[i]['x2'] != 0 else False)\n",
    "    x3 = (True if truth_table[i]['x3'] != 0 else False)\n",
    "    v = x1 or (x2 and not x3)\n",
    "    label = ('+' if v else '-')\n",
    "    print label\n",
    "    truth_table[i]['label'] = label\n",
    "    truth_table[i]['value'] = v"
   ]
  },
  {
   "cell_type": "code",
   "execution_count": 5,
   "metadata": {
    "collapsed": true
   },
   "outputs": [],
   "source": [
    "fig = pylab.figure()\n",
    "ax = Axes3D(fig)"
   ]
  },
  {
   "cell_type": "code",
   "execution_count": null,
   "metadata": {
    "collapsed": false
   },
   "outputs": [],
   "source": [
    "for i in range(0,8):\n",
    "    ax.scatter(truth_table[i]['x1'], truth_table[i]['x2'], truth_table[i]['x3'], \n",
    "               color = ('b' if truth_table[i]['value'] else 'r'))"
   ]
  },
  {
   "cell_type": "code",
   "execution_count": null,
   "metadata": {
    "collapsed": true
   },
   "outputs": [],
   "source": [
    "pyplot.show()"
   ]
  },
  {
   "cell_type": "code",
   "execution_count": null,
   "metadata": {
    "collapsed": true
   },
   "outputs": [],
   "source": []
  },
  {
   "cell_type": "code",
   "execution_count": null,
   "metadata": {
    "collapsed": true
   },
   "outputs": [],
   "source": []
  }
 ],
 "metadata": {
  "kernelspec": {
   "display_name": "Python 2",
   "language": "python",
   "name": "python2"
  },
  "language_info": {
   "codemirror_mode": {
    "name": "ipython",
    "version": 2
   },
   "file_extension": ".py",
   "mimetype": "text/x-python",
   "name": "python",
   "nbconvert_exporter": "python",
   "pygments_lexer": "ipython2",
   "version": "2.7.11"
  }
 },
 "nbformat": 4,
 "nbformat_minor": 0
}
